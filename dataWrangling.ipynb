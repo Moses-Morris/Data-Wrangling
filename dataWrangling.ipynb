{
    "cells": [
        {
            "cell_type": "code",
            "execution_count": 1,
            "metadata": {},
            "outputs": [
                {
                    "name": "stdout",
                    "output_type": "stream",
                    "text": "{'fairings': None, 'links': {'patch': {'small': 'https://images2.imgbox.com/eb/d8/D1Yywp0w_o.png', 'large': 'https://images2.imgbox.com/33/2e/k6VE4iYl_o.png'}, 'reddit': {'campaign': None, 'launch': 'https://www.reddit.com/r/spacex/comments/xvm76j/rspacex_crew5_launchcoast_docking_discussion_and/', 'media': None, 'recovery': None}, 'flickr': {'small': [], 'original': []}, 'presskit': None, 'webcast': 'https://youtu.be/5EwW8ZkArL4', 'youtube_id': '5EwW8ZkArL4', 'article': None, 'wikipedia': 'https://en.wikipedia.org/wiki/SpaceX_Crew-5'}, 'static_fire_date_utc': None, 'static_fire_date_unix': None, 'net': False, 'window': None, 'rocket': '5e9d0d95eda69973a809d1ec', 'success': True, 'failures': [], 'details': None, 'crew': [{'crew': '62dd7196202306255024d13c', 'role': 'Commander'}, {'crew': '62dd71c9202306255024d13d', 'role': 'Pilot'}, {'crew': '62dd7210202306255024d13e', 'role': 'Mission Specialist 1'}, {'crew': '62dd7253202306255024d13f', 'role': 'Mission Specialist 2'}], 'ships': [], 'capsules': ['617c05591bad2c661a6e2909'], 'payloads': ['62dd73ed202306255024d145'], 'launchpad': '5e9e4502f509094188566f88', 'flight_number': 187, 'name': 'Crew-5', 'date_utc': '2022-10-05T16:00:00.000Z', 'date_unix': 1664985600, 'date_local': '2022-10-05T12:00:00-04:00', 'date_precision': 'hour', 'upcoming': False, 'cores': [{'core': '633d9da635a71d1d9c66797b', 'flight': 1, 'gridfins': True, 'legs': True, 'reused': False, 'landing_attempt': True, 'landing_success': True, 'landing_type': 'ASDS', 'landpad': '5e9e3033383ecbb9e534e7cc'}], 'auto_update': True, 'tbd': False, 'launch_library_id': 'f33d5ece-e825-4cd8-809f-1d4c72a2e0d3', 'id': '62dd70d5202306255024d139'}\nNow as a table.\n  fairings static_fire_date_utc static_fire_date_unix    net window  \\\n0     None                 None                  None  False   None   \n\n                     rocket  success failures details  \\\n0  5e9d0d95eda69973a809d1ec     True       []    None   \n\n                                                crew  ...  \\\n0  [{'crew': '62dd7196202306255024d13c', 'role': ...  ...   \n\n                                 links.reddit.launch links.reddit.media  \\\n0  https://www.reddit.com/r/spacex/comments/xvm76...               None   \n\n  links.reddit.recovery links.flickr.small  links.flickr.original  \\\n0                  None                 []                     []   \n\n  links.presskit                 links.webcast  links.youtube_id  \\\n0           None  https://youtu.be/5EwW8ZkArL4       5EwW8ZkArL4   \n\n  links.article                              links.wikipedia  \n0          None  https://en.wikipedia.org/wiki/SpaceX_Crew-5  \n\n[1 rows x 39 columns]\n"
                }
            ],
            "source": "import pandas as pd\nimport requests\nurl = \"https://api.spacexdata.com/v5/launches/latest\"\nresponse = requests.get(url)\ndata = response.json()\nprint(data)\nprint(\"Now as a table.\")\ndataWrangled = pd.json_normalize(data)\nprint(dataWrangled)"
        },
        {
            "cell_type": "code",
            "execution_count": null,
            "metadata": {},
            "outputs": [],
            "source": ""
        }
    ],
    "metadata": {
        "kernelspec": {
            "display_name": "Python 3.10",
            "language": "python",
            "name": "python3"
        },
        "language_info": {
            "codemirror_mode": {
                "name": "ipython",
                "version": 3
            },
            "file_extension": ".py",
            "mimetype": "text/x-python",
            "name": "python",
            "nbconvert_exporter": "python",
            "pygments_lexer": "ipython3",
            "version": "3.10.9"
        }
    },
    "nbformat": 4,
    "nbformat_minor": 1
}